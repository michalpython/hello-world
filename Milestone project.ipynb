{
 "cells": [
  {
   "cell_type": "markdown",
   "metadata": {},
   "source": [
    "# Milestone project I - Kółko and Kszyszyk"
   ]
  },
  {
   "cell_type": "code",
   "execution_count": 1,
   "metadata": {},
   "outputs": [],
   "source": [
    "from IPython.display import clear_output\n",
    "\n",
    "def display_board(board):\n",
    "    print(board[7]+' | '+board[8]+' | '+board[9])\n",
    "    print('-----------')\n",
    "    print(board[4]+' | '+board[5]+' | '+board[6])\n",
    "    print('-----------')\n",
    "    print(board[1]+' | '+board[2]+' | '+board[3])"
   ]
  },
  {
   "cell_type": "code",
   "execution_count": 2,
   "metadata": {},
   "outputs": [],
   "source": [
    "test_board = ['#','X','O','X','O','X','O','X','O','X']"
   ]
  },
  {
   "cell_type": "code",
   "execution_count": 3,
   "metadata": {},
   "outputs": [],
   "source": [
    "def player_input():\n",
    "    marker = ''\n",
    "    while marker != 'X' and marker !='O':\n",
    "        marker = input('Player 1: Do You want to be X or O?: ')\n",
    "        player1 = marker\n",
    "    if player1 == 'X':\n",
    "        player2 = 'O'\n",
    "        print('Player 1 is '+player1)\n",
    "        print('Player 2 is '+player2)\n",
    "    else:\n",
    "        player2 = 'X'\n",
    "        print('Player 1 is '+player1)\n",
    "        print('Player 2 is '+player2)\n",
    "    return (player1,player2)"
   ]
  },
  {
   "cell_type": "code",
   "execution_count": 4,
   "metadata": {},
   "outputs": [],
   "source": [
    "def place_marker(board, marker, position):\n",
    "    board[position] = marker"
   ]
  },
  {
   "cell_type": "code",
   "execution_count": 5,
   "metadata": {},
   "outputs": [],
   "source": [
    "def win_check(board, marker):\n",
    "    return ((board[1]== marker and board[2]== marker and board[3]== marker) or\n",
    "    (board[4]== marker and board[5]== marker and board[6]== marker) or\n",
    "    (board[7]== marker and board[8]== marker and board[9]== marker) or\n",
    "    (board[1]== marker and board[4]== marker and board[7]== marker) or\n",
    "    (board[1]== marker and board[5]== marker and board[9]== marker) or\n",
    "    (board[2]== marker and board[5]== marker and board[8]== marker) or\n",
    "    (board[3]== marker and board[6]== marker and board[9]== marker) or\n",
    "    (board[3]== marker and board[5]== marker and board[7]== marker))"
   ]
  },
  {
   "cell_type": "code",
   "execution_count": 6,
   "metadata": {},
   "outputs": [],
   "source": [
    "import random\n",
    "\n",
    "def choose_first():\n",
    "    first=random.randint(1,2)\n",
    "    if first == 1:\n",
    "        return 'Player 1'\n",
    "    else:\n",
    "        return 'Player 2'"
   ]
  },
  {
   "cell_type": "code",
   "execution_count": 7,
   "metadata": {},
   "outputs": [],
   "source": [
    "def space_check(board, position):\n",
    "    space = ' '\n",
    "    return board[position] == space"
   ]
  },
  {
   "cell_type": "code",
   "execution_count": 8,
   "metadata": {},
   "outputs": [],
   "source": [
    "def full_board_check(board):\n",
    "    for i in range(1,10):\n",
    "        if space_check(board, i):\n",
    "            return False\n",
    "    return True"
   ]
  },
  {
   "cell_type": "code",
   "execution_count": 9,
   "metadata": {},
   "outputs": [],
   "source": [
    "def player_choice(board):\n",
    "    position = 0\n",
    "    \n",
    "    while position not in [1,2,3,4,5,6,7,8,9] or not space_check(board, position):\n",
    "        position = int(input('Choose your next position: (1-9) '))\n",
    "        \n",
    "    return position"
   ]
  },
  {
   "cell_type": "code",
   "execution_count": 10,
   "metadata": {},
   "outputs": [],
   "source": [
    "def replay():\n",
    "    answer = input('Do You want to play again? Yes/No: ')\n",
    "    return answer == 'Yes'"
   ]
  },
  {
   "cell_type": "markdown",
   "metadata": {},
   "source": [
    "# Main program here"
   ]
  },
  {
   "cell_type": "code",
   "execution_count": 12,
   "metadata": {},
   "outputs": [
    {
     "name": "stdout",
     "output_type": "stream",
     "text": [
      "Welcome to Tic Tac Toe!\n",
      "Player 1: Do You want to be X or O?: X\n",
      "Player 1 is X\n",
      "Player 2 is O\n",
      "Player 1 starts\n",
      "Are you ready to play? Enter Yes or No.Yes\n",
      "  |   |  \n",
      "-----------\n",
      "  |   |  \n",
      "-----------\n",
      "  |   |  \n",
      "Choose your next position: (1-9) 5\n",
      "  |   |  \n",
      "-----------\n",
      "  | X |  \n",
      "-----------\n",
      "  |   |  \n",
      "Choose your next position: (1-9) 1\n",
      "  |   |  \n",
      "-----------\n",
      "  | X |  \n",
      "-----------\n",
      "O |   |  \n",
      "Choose your next position: (1-9) 9\n",
      "  |   | X\n",
      "-----------\n",
      "  | X |  \n",
      "-----------\n",
      "O |   |  \n",
      "Choose your next position: (1-9) 8\n",
      "  | O | X\n",
      "-----------\n",
      "  | X |  \n",
      "-----------\n",
      "O |   |  \n",
      "Choose your next position: (1-9) 7\n",
      "X | O | X\n",
      "-----------\n",
      "  | X |  \n",
      "-----------\n",
      "O |   |  \n",
      "Choose your next position: (1-9) 3\n",
      "X | O | X\n",
      "-----------\n",
      "  | X |  \n",
      "-----------\n",
      "O |   | O\n",
      "Choose your next position: (1-9) 6\n",
      "X | O | X\n",
      "-----------\n",
      "  | X | X\n",
      "-----------\n",
      "O |   | O\n",
      "Choose your next position: (1-9) 2\n",
      "Player 2 won!!!\n",
      "X | O | X\n",
      "-----------\n",
      "  | X | X\n",
      "-----------\n",
      "O | O | O\n",
      "Do You want to play again? Yes/No: N\n"
     ]
    }
   ],
   "source": [
    "print('Welcome to Tic Tac Toe!')\n",
    "\n",
    "while True:\n",
    "    theBoard = [' '] * 10\n",
    "    player1_marker, player2_marker = player_input()\n",
    "    turn = choose_first()\n",
    "    print(turn+' starts')\n",
    "    play_game = input('Are you ready to play? Enter Yes or No.').lower()[0]\n",
    "    \n",
    "    if play_game.lower()[0] == 'y':\n",
    "        game_on = True\n",
    "    else:\n",
    "        game_on = False\n",
    "        \n",
    "    while game_on:\n",
    "        if turn == 'Player 1':\n",
    "            display_board(theBoard)\n",
    "            position = player_choice(theBoard)\n",
    "            place_marker(theBoard, player1_marker, position)\n",
    "        \n",
    "            if win_check(theBoard, player1_marker):\n",
    "                display_board(theBoard)\n",
    "                print('Player 1 won!!!')\n",
    "                game_on = False\n",
    "            \n",
    "            else:\n",
    "                if full_board_check(theBoard):\n",
    "                    display_board(theBoard)\n",
    "                    print('The game is a draw!')\n",
    "                    break\n",
    "                else:\n",
    "                    turn = 'Player 2'\n",
    "        else:\n",
    "            display_board(theBoard)\n",
    "            position = player_choice(theBoard)\n",
    "            place_marker(theBoard, player2_marker, position)\n",
    "        \n",
    "            if win_check(theBoard, player2_marker):\n",
    "                print('Player 2 won!!!')\n",
    "                display_board(theBoard)\n",
    "                game_on = False\n",
    "            \n",
    "            else:\n",
    "                if full_board_check(theBoard):\n",
    "                    display_board(theBoard)\n",
    "                    print('The game is a draw!')\n",
    "                    break\n",
    "                else:\n",
    "                    turn = 'Player 1'\n",
    "    if not replay():\n",
    "        break"
   ]
  },
  {
   "cell_type": "code",
   "execution_count": null,
   "metadata": {},
   "outputs": [],
   "source": []
  },
  {
   "cell_type": "code",
   "execution_count": null,
   "metadata": {},
   "outputs": [],
   "source": []
  }
 ],
 "metadata": {
  "kernelspec": {
   "display_name": "Python 3",
   "language": "python",
   "name": "python3"
  },
  "language_info": {
   "codemirror_mode": {
    "name": "ipython",
    "version": 3
   },
   "file_extension": ".py",
   "mimetype": "text/x-python",
   "name": "python",
   "nbconvert_exporter": "python",
   "pygments_lexer": "ipython3",
   "version": "3.7.1"
  }
 },
 "nbformat": 4,
 "nbformat_minor": 2
}
